{
 "cells": [
  {
   "cell_type": "markdown",
   "metadata": {},
   "source": [
    "# **Task 4: Predicting Car price Using the diffrent different feature**\n"
   ]
  },
  {
   "cell_type": "markdown",
   "metadata": {},
   "source": [
    "# Import Libraries "
   ]
  },
  {
   "cell_type": "code",
   "execution_count": 823,
   "metadata": {},
   "outputs": [],
   "source": [
    "import pandas as pd\n",
    "import numpy as np\n",
    "import matplotlib.pyplot as plt\n",
    "import seaborn as sns"
   ]
  },
  {
   "cell_type": "markdown",
   "metadata": {},
   "source": [
    "# Import Dataset "
   ]
  },
  {
   "cell_type": "code",
   "execution_count": 824,
   "metadata": {},
   "outputs": [
    {
     "data": {
      "text/html": [
       "<div>\n",
       "<style scoped>\n",
       "    .dataframe tbody tr th:only-of-type {\n",
       "        vertical-align: middle;\n",
       "    }\n",
       "\n",
       "    .dataframe tbody tr th {\n",
       "        vertical-align: top;\n",
       "    }\n",
       "\n",
       "    .dataframe thead th {\n",
       "        text-align: right;\n",
       "    }\n",
       "</style>\n",
       "<table border=\"1\" class=\"dataframe\">\n",
       "  <thead>\n",
       "    <tr style=\"text-align: right;\">\n",
       "      <th></th>\n",
       "      <th>car_name</th>\n",
       "      <th>brand</th>\n",
       "      <th>car_model</th>\n",
       "      <th>model_year</th>\n",
       "      <th>transmission</th>\n",
       "      <th>body_type</th>\n",
       "      <th>fuel_type</th>\n",
       "      <th>engine_capacity</th>\n",
       "      <th>kilometers_run</th>\n",
       "      <th>price</th>\n",
       "    </tr>\n",
       "  </thead>\n",
       "  <tbody>\n",
       "    <tr>\n",
       "      <th>0</th>\n",
       "      <td>Toyota Fielder 2011</td>\n",
       "      <td>Toyota</td>\n",
       "      <td>Fielder</td>\n",
       "      <td>2016</td>\n",
       "      <td>Automatic</td>\n",
       "      <td>Estate</td>\n",
       "      <td>CNG</td>\n",
       "      <td>1500</td>\n",
       "      <td>45852</td>\n",
       "      <td>1200000</td>\n",
       "    </tr>\n",
       "    <tr>\n",
       "      <th>1</th>\n",
       "      <td>Toyota Noah 2005</td>\n",
       "      <td>Toyota</td>\n",
       "      <td>Noah</td>\n",
       "      <td>2010</td>\n",
       "      <td>Automatic</td>\n",
       "      <td>Hatchback</td>\n",
       "      <td>CNG</td>\n",
       "      <td>1998</td>\n",
       "      <td>219630</td>\n",
       "      <td>1200000</td>\n",
       "    </tr>\n",
       "    <tr>\n",
       "      <th>2</th>\n",
       "      <td>Toyota LiteAce 2001</td>\n",
       "      <td>Toyota</td>\n",
       "      <td>LiteAce</td>\n",
       "      <td>2001</td>\n",
       "      <td>Manual</td>\n",
       "      <td>NaN</td>\n",
       "      <td>CNG</td>\n",
       "      <td>1800</td>\n",
       "      <td>102000</td>\n",
       "      <td>165000</td>\n",
       "    </tr>\n",
       "    <tr>\n",
       "      <th>3</th>\n",
       "      <td>Maruti Suzuki Vitara Brezza 1994</td>\n",
       "      <td>Maruti Suzuki</td>\n",
       "      <td>Vitara Brezza</td>\n",
       "      <td>1994</td>\n",
       "      <td>Manual</td>\n",
       "      <td>NaN</td>\n",
       "      <td>CNG</td>\n",
       "      <td>1600</td>\n",
       "      <td>113000</td>\n",
       "      <td>230000</td>\n",
       "    </tr>\n",
       "    <tr>\n",
       "      <th>4</th>\n",
       "      <td>Toyota Starlet good 1992</td>\n",
       "      <td>Toyota</td>\n",
       "      <td>Starlet</td>\n",
       "      <td>1992</td>\n",
       "      <td>Automatic</td>\n",
       "      <td>Saloon</td>\n",
       "      <td>CNG</td>\n",
       "      <td>1300</td>\n",
       "      <td>15000</td>\n",
       "      <td>330000</td>\n",
       "    </tr>\n",
       "  </tbody>\n",
       "</table>\n",
       "</div>"
      ],
      "text/plain": [
       "                           car_name          brand      car_model  model_year  \\\n",
       "0               Toyota Fielder 2011         Toyota        Fielder        2016   \n",
       "1                  Toyota Noah 2005         Toyota           Noah        2010   \n",
       "2               Toyota LiteAce 2001         Toyota        LiteAce        2001   \n",
       "3  Maruti Suzuki Vitara Brezza 1994  Maruti Suzuki  Vitara Brezza        1994   \n",
       "4          Toyota Starlet good 1992         Toyota        Starlet        1992   \n",
       "\n",
       "  transmission  body_type fuel_type  engine_capacity  kilometers_run    price  \n",
       "0    Automatic     Estate       CNG             1500           45852  1200000  \n",
       "1    Automatic  Hatchback       CNG             1998          219630  1200000  \n",
       "2       Manual        NaN       CNG             1800          102000   165000  \n",
       "3       Manual        NaN       CNG             1600          113000   230000  \n",
       "4    Automatic     Saloon       CNG             1300           15000   330000  "
      ]
     },
     "execution_count": 824,
     "metadata": {},
     "output_type": "execute_result"
    }
   ],
   "source": [
    "df = pd.read_csv(r'D:\\Six Month Data Science Course with Codenamics\\car dataset\\car_dataset.csv')\n",
    "df.head()"
   ]
  },
  {
   "cell_type": "markdown",
   "metadata": {},
   "source": [
    "# Data preprocessing "
   ]
  },
  {
   "cell_type": "code",
   "execution_count": 825,
   "metadata": {},
   "outputs": [
    {
     "name": "stdout",
     "output_type": "stream",
     "text": [
      "<class 'pandas.core.frame.DataFrame'>\n",
      "RangeIndex: 1209 entries, 0 to 1208\n",
      "Data columns (total 10 columns):\n",
      " #   Column           Non-Null Count  Dtype \n",
      "---  ------           --------------  ----- \n",
      " 0   car_name         1209 non-null   object\n",
      " 1   brand            1209 non-null   object\n",
      " 2   car_model        1209 non-null   object\n",
      " 3   model_year       1209 non-null   int64 \n",
      " 4   transmission     1209 non-null   object\n",
      " 5   body_type        1191 non-null   object\n",
      " 6   fuel_type        1209 non-null   object\n",
      " 7   engine_capacity  1209 non-null   int64 \n",
      " 8   kilometers_run   1209 non-null   int64 \n",
      " 9   price            1209 non-null   int64 \n",
      "dtypes: int64(4), object(6)\n",
      "memory usage: 94.6+ KB\n"
     ]
    }
   ],
   "source": [
    "df.info()"
   ]
  },
  {
   "cell_type": "code",
   "execution_count": 826,
   "metadata": {},
   "outputs": [
    {
     "data": {
      "text/plain": [
       "car_name            0\n",
       "brand               0\n",
       "car_model           0\n",
       "model_year          0\n",
       "transmission        0\n",
       "body_type          18\n",
       "fuel_type           0\n",
       "engine_capacity     0\n",
       "kilometers_run      0\n",
       "price               0\n",
       "dtype: int64"
      ]
     },
     "execution_count": 826,
     "metadata": {},
     "output_type": "execute_result"
    }
   ],
   "source": [
    "df.isnull().sum(\n",
    "    \n",
    ")"
   ]
  },
  {
   "cell_type": "code",
   "execution_count": 827,
   "metadata": {},
   "outputs": [],
   "source": [
    "df.dropna(inplace=True)"
   ]
  },
  {
   "cell_type": "code",
   "execution_count": 828,
   "metadata": {},
   "outputs": [
    {
     "data": {
      "text/plain": [
       "car_name           0\n",
       "brand              0\n",
       "car_model          0\n",
       "model_year         0\n",
       "transmission       0\n",
       "body_type          0\n",
       "fuel_type          0\n",
       "engine_capacity    0\n",
       "kilometers_run     0\n",
       "price              0\n",
       "dtype: int64"
      ]
     },
     "execution_count": 828,
     "metadata": {},
     "output_type": "execute_result"
    }
   ],
   "source": [
    "df.isnull().sum()"
   ]
  },
  {
   "cell_type": "code",
   "execution_count": 829,
   "metadata": {},
   "outputs": [
    {
     "data": {
      "text/plain": [
       "np.int64(1)"
      ]
     },
     "execution_count": 829,
     "metadata": {},
     "output_type": "execute_result"
    }
   ],
   "source": [
    "df.duplicated().sum()"
   ]
  },
  {
   "cell_type": "code",
   "execution_count": 830,
   "metadata": {},
   "outputs": [],
   "source": [
    "df.drop_duplicates(inplace=True)"
   ]
  },
  {
   "cell_type": "code",
   "execution_count": 831,
   "metadata": {},
   "outputs": [
    {
     "data": {
      "text/plain": [
       "np.int64(0)"
      ]
     },
     "execution_count": 831,
     "metadata": {},
     "output_type": "execute_result"
    }
   ],
   "source": [
    "df.duplicated().sum()"
   ]
  },
  {
   "cell_type": "code",
   "execution_count": 832,
   "metadata": {},
   "outputs": [
    {
     "data": {
      "text/html": [
       "<div>\n",
       "<style scoped>\n",
       "    .dataframe tbody tr th:only-of-type {\n",
       "        vertical-align: middle;\n",
       "    }\n",
       "\n",
       "    .dataframe tbody tr th {\n",
       "        vertical-align: top;\n",
       "    }\n",
       "\n",
       "    .dataframe thead th {\n",
       "        text-align: right;\n",
       "    }\n",
       "</style>\n",
       "<table border=\"1\" class=\"dataframe\">\n",
       "  <thead>\n",
       "    <tr style=\"text-align: right;\">\n",
       "      <th></th>\n",
       "      <th>car_name</th>\n",
       "      <th>brand</th>\n",
       "      <th>car_model</th>\n",
       "      <th>model_year</th>\n",
       "      <th>transmission</th>\n",
       "      <th>body_type</th>\n",
       "      <th>fuel_type</th>\n",
       "      <th>engine_capacity</th>\n",
       "      <th>kilometers_run</th>\n",
       "      <th>price</th>\n",
       "    </tr>\n",
       "  </thead>\n",
       "  <tbody>\n",
       "    <tr>\n",
       "      <th>0</th>\n",
       "      <td>Toyota Fielder 2011</td>\n",
       "      <td>Toyota</td>\n",
       "      <td>Fielder</td>\n",
       "      <td>2016</td>\n",
       "      <td>Automatic</td>\n",
       "      <td>Estate</td>\n",
       "      <td>CNG</td>\n",
       "      <td>1500</td>\n",
       "      <td>45852</td>\n",
       "      <td>1200000</td>\n",
       "    </tr>\n",
       "    <tr>\n",
       "      <th>1</th>\n",
       "      <td>Toyota Noah 2005</td>\n",
       "      <td>Toyota</td>\n",
       "      <td>Noah</td>\n",
       "      <td>2010</td>\n",
       "      <td>Automatic</td>\n",
       "      <td>Hatchback</td>\n",
       "      <td>CNG</td>\n",
       "      <td>1998</td>\n",
       "      <td>219630</td>\n",
       "      <td>1200000</td>\n",
       "    </tr>\n",
       "  </tbody>\n",
       "</table>\n",
       "</div>"
      ],
      "text/plain": [
       "              car_name   brand car_model  model_year transmission  body_type  \\\n",
       "0  Toyota Fielder 2011  Toyota   Fielder        2016    Automatic     Estate   \n",
       "1     Toyota Noah 2005  Toyota      Noah        2010    Automatic  Hatchback   \n",
       "\n",
       "  fuel_type  engine_capacity  kilometers_run    price  \n",
       "0       CNG             1500           45852  1200000  \n",
       "1       CNG             1998          219630  1200000  "
      ]
     },
     "execution_count": 832,
     "metadata": {},
     "output_type": "execute_result"
    }
   ],
   "source": [
    "df.head(2)"
   ]
  },
  {
   "cell_type": "markdown",
   "metadata": {},
   "source": [
    "# Categorical Column Converted into Numerical by using LabelEncoder"
   ]
  },
  {
   "cell_type": "markdown",
   "metadata": {},
   "source": [
    "# import labelEncoder"
   ]
  },
  {
   "cell_type": "code",
   "execution_count": 833,
   "metadata": {},
   "outputs": [],
   "source": [
    "# in car name we will use labelled encoding not hot endcoding because there are so many names of cars\n",
    "# import library\n",
    "from sklearn.preprocessing import LabelEncoder"
   ]
  },
  {
   "cell_type": "markdown",
   "metadata": {},
   "source": [
    "# Car_Name"
   ]
  },
  {
   "cell_type": "code",
   "execution_count": 834,
   "metadata": {},
   "outputs": [],
   "source": [
    "Car_name = LabelEncoder()\n",
    "df['car_name']=Car_name.fit_transform(df['car_name'])"
   ]
  },
  {
   "cell_type": "markdown",
   "metadata": {},
   "source": [
    "# Fuel_Type"
   ]
  },
  {
   "cell_type": "code",
   "execution_count": 835,
   "metadata": {},
   "outputs": [
    {
     "data": {
      "text/plain": [
       "array(['CNG', 'CNG, Hybrid', 'CNG, Octane', 'Diesel', 'Diesel, Petrol',\n",
       "       'Hybrid', 'Hybrid, Octane', 'Hybrid, Octane, LPG', 'LPG', 'Octane',\n",
       "       'Octane, LPG', 'Octane, Other fuel type', 'Petrol', 'Petrol, CNG',\n",
       "       'Petrol, CNG, Octane', 'Petrol, CNG, Octane, LPG',\n",
       "       'Petrol, Hybrid', 'Petrol, Hybrid, Octane',\n",
       "       'Petrol, Hybrid, Octane, LPG', 'Petrol, LPG', 'Petrol, Octane',\n",
       "       'Petrol, Octane, LPG', 'Petrol, Octane, Other fuel type',\n",
       "       'Petrol, Other fuel type'], dtype=object)"
      ]
     },
     "execution_count": 835,
     "metadata": {},
     "output_type": "execute_result"
    }
   ],
   "source": [
    "df['fuel_type'].unique()"
   ]
  },
  {
   "cell_type": "code",
   "execution_count": 836,
   "metadata": {},
   "outputs": [],
   "source": [
    "# label LabelEncoding is best for this but we can use one hot encoding\n",
    "Fuel_type = LabelEncoder()\n",
    "df['fuel_type']=Fuel_type.fit_transform(df['fuel_type'])"
   ]
  },
  {
   "cell_type": "markdown",
   "metadata": {},
   "source": [
    "# Brand"
   ]
  },
  {
   "cell_type": "code",
   "execution_count": 837,
   "metadata": {},
   "outputs": [],
   "source": [
    "Brand = LabelEncoder()\n",
    "df['brand']=Brand.fit_transform(df['brand'])"
   ]
  },
  {
   "cell_type": "markdown",
   "metadata": {},
   "source": [
    "# car_model\t"
   ]
  },
  {
   "cell_type": "code",
   "execution_count": 838,
   "metadata": {},
   "outputs": [],
   "source": [
    "Car_Model = LabelEncoder()\n",
    "df['car_model']=Car_Model.fit_transform(df['car_model'])"
   ]
  },
  {
   "cell_type": "markdown",
   "metadata": {},
   "source": [
    "# Transmission"
   ]
  },
  {
   "cell_type": "code",
   "execution_count": 839,
   "metadata": {},
   "outputs": [],
   "source": [
    "Transmission = LabelEncoder()\n",
    "df['transmission']=Transmission.fit_transform(df['transmission'])"
   ]
  },
  {
   "cell_type": "markdown",
   "metadata": {},
   "source": [
    "# Body_Type"
   ]
  },
  {
   "cell_type": "code",
   "execution_count": 840,
   "metadata": {},
   "outputs": [],
   "source": [
    "Body_type = LabelEncoder()\n",
    "df['body_type']=Body_type.fit_transform(df['body_type'])"
   ]
  },
  {
   "cell_type": "code",
   "execution_count": 841,
   "metadata": {},
   "outputs": [
    {
     "data": {
      "text/html": [
       "<div>\n",
       "<style scoped>\n",
       "    .dataframe tbody tr th:only-of-type {\n",
       "        vertical-align: middle;\n",
       "    }\n",
       "\n",
       "    .dataframe tbody tr th {\n",
       "        vertical-align: top;\n",
       "    }\n",
       "\n",
       "    .dataframe thead th {\n",
       "        text-align: right;\n",
       "    }\n",
       "</style>\n",
       "<table border=\"1\" class=\"dataframe\">\n",
       "  <thead>\n",
       "    <tr style=\"text-align: right;\">\n",
       "      <th></th>\n",
       "      <th>car_name</th>\n",
       "      <th>brand</th>\n",
       "      <th>car_model</th>\n",
       "      <th>model_year</th>\n",
       "      <th>transmission</th>\n",
       "      <th>body_type</th>\n",
       "      <th>fuel_type</th>\n",
       "      <th>engine_capacity</th>\n",
       "      <th>kilometers_run</th>\n",
       "      <th>price</th>\n",
       "    </tr>\n",
       "  </thead>\n",
       "  <tbody>\n",
       "    <tr>\n",
       "      <th>0</th>\n",
       "      <td>583</td>\n",
       "      <td>23</td>\n",
       "      <td>40</td>\n",
       "      <td>2016</td>\n",
       "      <td>0</td>\n",
       "      <td>2</td>\n",
       "      <td>0</td>\n",
       "      <td>1500</td>\n",
       "      <td>45852</td>\n",
       "      <td>1200000</td>\n",
       "    </tr>\n",
       "    <tr>\n",
       "      <th>1</th>\n",
       "      <td>746</td>\n",
       "      <td>23</td>\n",
       "      <td>67</td>\n",
       "      <td>2010</td>\n",
       "      <td>0</td>\n",
       "      <td>3</td>\n",
       "      <td>0</td>\n",
       "      <td>1998</td>\n",
       "      <td>219630</td>\n",
       "      <td>1200000</td>\n",
       "    </tr>\n",
       "  </tbody>\n",
       "</table>\n",
       "</div>"
      ],
      "text/plain": [
       "   car_name  brand  car_model  model_year  transmission  body_type  fuel_type  \\\n",
       "0       583     23         40        2016             0          2          0   \n",
       "1       746     23         67        2010             0          3          0   \n",
       "\n",
       "   engine_capacity  kilometers_run    price  \n",
       "0             1500           45852  1200000  \n",
       "1             1998          219630  1200000  "
      ]
     },
     "execution_count": 841,
     "metadata": {},
     "output_type": "execute_result"
    }
   ],
   "source": [
    "# all data converted into numbers\n",
    "df.head(2)"
   ]
  },
  {
   "cell_type": "markdown",
   "metadata": {},
   "source": [
    "# Seperate Input and Output data "
   ]
  },
  {
   "cell_type": "code",
   "execution_count": 842,
   "metadata": {},
   "outputs": [],
   "source": [
    "x=df.iloc[:,0:9]\n",
    "y=df.iloc[:,-1]"
   ]
  },
  {
   "cell_type": "code",
   "execution_count": 843,
   "metadata": {},
   "outputs": [
    {
     "data": {
      "text/html": [
       "<div>\n",
       "<style scoped>\n",
       "    .dataframe tbody tr th:only-of-type {\n",
       "        vertical-align: middle;\n",
       "    }\n",
       "\n",
       "    .dataframe tbody tr th {\n",
       "        vertical-align: top;\n",
       "    }\n",
       "\n",
       "    .dataframe thead th {\n",
       "        text-align: right;\n",
       "    }\n",
       "</style>\n",
       "<table border=\"1\" class=\"dataframe\">\n",
       "  <thead>\n",
       "    <tr style=\"text-align: right;\">\n",
       "      <th></th>\n",
       "      <th>car_name</th>\n",
       "      <th>brand</th>\n",
       "      <th>car_model</th>\n",
       "      <th>model_year</th>\n",
       "      <th>transmission</th>\n",
       "      <th>body_type</th>\n",
       "      <th>fuel_type</th>\n",
       "      <th>engine_capacity</th>\n",
       "      <th>kilometers_run</th>\n",
       "    </tr>\n",
       "  </thead>\n",
       "  <tbody>\n",
       "    <tr>\n",
       "      <th>0</th>\n",
       "      <td>583</td>\n",
       "      <td>23</td>\n",
       "      <td>40</td>\n",
       "      <td>2016</td>\n",
       "      <td>0</td>\n",
       "      <td>2</td>\n",
       "      <td>0</td>\n",
       "      <td>1500</td>\n",
       "      <td>45852</td>\n",
       "    </tr>\n",
       "    <tr>\n",
       "      <th>1</th>\n",
       "      <td>746</td>\n",
       "      <td>23</td>\n",
       "      <td>67</td>\n",
       "      <td>2010</td>\n",
       "      <td>0</td>\n",
       "      <td>3</td>\n",
       "      <td>0</td>\n",
       "      <td>1998</td>\n",
       "      <td>219630</td>\n",
       "    </tr>\n",
       "  </tbody>\n",
       "</table>\n",
       "</div>"
      ],
      "text/plain": [
       "   car_name  brand  car_model  model_year  transmission  body_type  fuel_type  \\\n",
       "0       583     23         40        2016             0          2          0   \n",
       "1       746     23         67        2010             0          3          0   \n",
       "\n",
       "   engine_capacity  kilometers_run  \n",
       "0             1500           45852  \n",
       "1             1998          219630  "
      ]
     },
     "execution_count": 843,
     "metadata": {},
     "output_type": "execute_result"
    }
   ],
   "source": [
    "x.head(2)"
   ]
  },
  {
   "cell_type": "code",
   "execution_count": 844,
   "metadata": {},
   "outputs": [
    {
     "data": {
      "text/plain": [
       "0    1200000\n",
       "1    1200000\n",
       "Name: price, dtype: int64"
      ]
     },
     "execution_count": 844,
     "metadata": {},
     "output_type": "execute_result"
    }
   ],
   "source": [
    "y.head(2)"
   ]
  },
  {
   "cell_type": "markdown",
   "metadata": {},
   "source": [
    "# now scaling of only input data in supervised machine learning but in unsupervised machine learning we scale both input and output data"
   ]
  },
  {
   "cell_type": "code",
   "execution_count": 845,
   "metadata": {},
   "outputs": [],
   "source": [
    "# import for scaling \n",
    "from sklearn.preprocessing import StandardScaler"
   ]
  },
  {
   "cell_type": "code",
   "execution_count": 846,
   "metadata": {},
   "outputs": [
    {
     "data": {
      "text/plain": [
       "array([[ 1.09364748e-01,  4.11679360e-01, -3.45558235e-01, ...,\n",
       "        -1.31767706e+00, -4.63252658e-01, -3.52091741e-01],\n",
       "       [ 6.31915741e-01,  4.11679360e-01,  4.79743638e-01, ...,\n",
       "        -1.31767706e+00,  8.39820663e-01,  2.53969359e+00],\n",
       "       [ 1.60007771e+00,  4.11679360e-01,  1.39674572e+00, ...,\n",
       "        -1.31767706e+00, -9.86575278e-01, -8.65490221e-01],\n",
       "       ...,\n",
       "       [-7.59416352e-01,  4.11679360e-01, -1.41539400e+00, ...,\n",
       "         2.29682267e+00,  1.79226783e+00,  2.32441302e+00],\n",
       "       [-1.09602896e+00, -1.21439339e-03,  1.51901266e+00, ...,\n",
       "         2.46111812e+00, -1.24823659e+00, -1.74489491e-04],\n",
       "       [-1.09282312e+00, -1.21439339e-03,  1.51901266e+00, ...,\n",
       "         2.46111812e+00, -1.24823659e+00,  1.03154811e+00]],\n",
       "      shape=(1190, 9))"
      ]
     },
     "execution_count": 846,
     "metadata": {},
     "output_type": "execute_result"
    }
   ],
   "source": [
    "ss=StandardScaler()\n",
    "ss.fit_transform(x) # fit only on input data which represent by x"
   ]
  },
  {
   "cell_type": "code",
   "execution_count": 847,
   "metadata": {},
   "outputs": [],
   "source": [
    "# now data is scaled and convert it into dataframe\n",
    "input_data_x=pd.DataFrame(ss.fit_transform(x),columns=x.columns) # scaling data using StandardScaler and convert into dataframe then columns name assigned \n"
   ]
  },
  {
   "cell_type": "code",
   "execution_count": 848,
   "metadata": {},
   "outputs": [
    {
     "data": {
      "text/html": [
       "<div>\n",
       "<style scoped>\n",
       "    .dataframe tbody tr th:only-of-type {\n",
       "        vertical-align: middle;\n",
       "    }\n",
       "\n",
       "    .dataframe tbody tr th {\n",
       "        vertical-align: top;\n",
       "    }\n",
       "\n",
       "    .dataframe thead th {\n",
       "        text-align: right;\n",
       "    }\n",
       "</style>\n",
       "<table border=\"1\" class=\"dataframe\">\n",
       "  <thead>\n",
       "    <tr style=\"text-align: right;\">\n",
       "      <th></th>\n",
       "      <th>car_name</th>\n",
       "      <th>brand</th>\n",
       "      <th>car_model</th>\n",
       "      <th>model_year</th>\n",
       "      <th>transmission</th>\n",
       "      <th>body_type</th>\n",
       "      <th>fuel_type</th>\n",
       "      <th>engine_capacity</th>\n",
       "      <th>kilometers_run</th>\n",
       "    </tr>\n",
       "  </thead>\n",
       "  <tbody>\n",
       "    <tr>\n",
       "      <th>0</th>\n",
       "      <td>0.109365</td>\n",
       "      <td>0.411679</td>\n",
       "      <td>-0.345558</td>\n",
       "      <td>0.919769</td>\n",
       "      <td>-0.213762</td>\n",
       "      <td>-2.335383</td>\n",
       "      <td>-1.317677</td>\n",
       "      <td>-0.463253</td>\n",
       "      <td>-0.352092</td>\n",
       "    </tr>\n",
       "    <tr>\n",
       "      <th>1</th>\n",
       "      <td>0.631916</td>\n",
       "      <td>0.411679</td>\n",
       "      <td>0.479744</td>\n",
       "      <td>0.043214</td>\n",
       "      <td>-0.213762</td>\n",
       "      <td>-1.557576</td>\n",
       "      <td>-1.317677</td>\n",
       "      <td>0.839821</td>\n",
       "      <td>2.539694</td>\n",
       "    </tr>\n",
       "  </tbody>\n",
       "</table>\n",
       "</div>"
      ],
      "text/plain": [
       "   car_name     brand  car_model  model_year  transmission  body_type  \\\n",
       "0  0.109365  0.411679  -0.345558    0.919769     -0.213762  -2.335383   \n",
       "1  0.631916  0.411679   0.479744    0.043214     -0.213762  -1.557576   \n",
       "\n",
       "   fuel_type  engine_capacity  kilometers_run  \n",
       "0  -1.317677        -0.463253       -0.352092  \n",
       "1  -1.317677         0.839821        2.539694  "
      ]
     },
     "execution_count": 848,
     "metadata": {},
     "output_type": "execute_result"
    }
   ],
   "source": [
    "# Now check the input data \n",
    "input_data_x.head(2)"
   ]
  },
  {
   "cell_type": "markdown",
   "metadata": {},
   "source": [
    "# Now data train and test so we split it into two parts \n",
    "\n",
    "1. agar meri company training and testing data alaug alaug deti ha to ham usy ko use karaingay otherwise ham ak hi dataset ma say spilt karainagay 20 % data ko testing data ma aur 80% data ko training data ma rakhaingay"
   ]
  },
  {
   "cell_type": "code",
   "execution_count": 849,
   "metadata": {},
   "outputs": [],
   "source": [
    "# import library for testing and training\n",
    "from sklearn.model_selection import train_test_split"
   ]
  },
  {
   "cell_type": "code",
   "execution_count": 850,
   "metadata": {},
   "outputs": [],
   "source": [
    "# now split the data into train and test \n",
    "train_x ,test_x ,train_y ,test_y =train_test_split(input_data_x,y,test_size=0.2,random_state=0)"
   ]
  },
  {
   "cell_type": "markdown",
   "metadata": {},
   "source": [
    "# Now kon kon say model ham bna sukatay hain us pa kam karainagay "
   ]
  },
  {
   "cell_type": "code",
   "execution_count": 851,
   "metadata": {},
   "outputs": [],
   "source": [
    "# These are supervise machine learning model\n",
    "# we will use linear regression model,lasso,Ridge and ElasticNet model\n",
    "from sklearn.linear_model import LinearRegression,Lasso,Ridge,ElasticNet\n",
    "\n",
    "# Another model \n",
    "from sklearn.tree import DecisionTreeRegressor\n",
    "\n",
    "# another model like SVM\n",
    "from sklearn.svm import SVR\n",
    "\n",
    "# another model like KNN\n",
    "from sklearn.neighbors import KNeighborsRegressor\n",
    "\n",
    "# another model like random forest\n",
    "from sklearn.ensemble import RandomForestRegressor"
   ]
  },
  {
   "cell_type": "markdown",
   "metadata": {},
   "source": [
    "# But we can not predict the which type of regression used for this i will check this linearnity by using heatmap correlation function "
   ]
  },
  {
   "cell_type": "code",
   "execution_count": 852,
   "metadata": {},
   "outputs": [
    {
     "data": {
      "image/png": "[encoded data removed]",
      "text/plain": [
       "<Figure size 640x480 with 2 Axes>"
      ]
     },
     "metadata": {},
     "output_type": "display_data"
    }
   ],
   "source": [
    "sns.heatmap(data=df.corr(),annot=True)\n",
    "plt.show()"
   ]
  },
  {
   "cell_type": "markdown",
   "metadata": {},
   "source": [
    "# Through the above heatmap we predict that no strong correlation exists between the two variables. We can also see that the correlation is not very strong.if my values neraest to 1 or -1 so it is a strong correlation."
   ]
  },
  {
   "cell_type": "code",
   "execution_count": null,
   "metadata": {},
   "outputs": [
    {
     "data": {
      "text/html": [
       "<style>#sk-container-id-14 {\n",
       "  /* Definition of color scheme common for light and dark mode */\n",
       "  --sklearn-color-text: black;\n",
       "  --sklearn-color-line: gray;\n",
       "  /* Definition of color scheme for unfitted estimators */\n",
       "  --sklearn-color-unfitted-level-0: #fff5e6;\n",
       "  --sklearn-color-unfitted-level-1: #f6e4d2;\n",
       "  --sklearn-color-unfitted-level-2: #ffe0b3;\n",
       "  --sklearn-color-unfitted-level-3: chocolate;\n",
       "  /* Definition of color scheme for fitted estimators */\n",
       "  --sklearn-color-fitted-level-0: #f0f8ff;\n",
       "  --sklearn-color-fitted-level-1: #d4ebff;\n",
       "  --sklearn-color-fitted-level-2: #b3dbfd;\n",
       "  --sklearn-color-fitted-level-3: cornflowerblue;\n",
       "\n",
       "  /* Specific color for light theme */\n",
       "  --sklearn-color-text-on-default-background: var(--sg-text-color, var(--theme-code-foreground, var(--jp-content-font-color1, black)));\n",
       "  --sklearn-color-background: var(--sg-background-color, var(--theme-background, var(--jp-layout-color0, white)));\n",
       "  --sklearn-color-border-box: var(--sg-text-color, var(--theme-code-foreground, var(--jp-content-font-color1, black)));\n",
       "  --sklearn-color-icon: #696969;\n",
       "\n",
       "  @media (prefers-color-scheme: dark) {\n",
       "    /* Redefinition of color scheme for dark theme */\n",
       "    --sklearn-color-text-on-default-background: var(--sg-text-color, var(--theme-code-foreground, var(--jp-content-font-color1, white)));\n",
       "    --sklearn-color-background: var(--sg-background-color, var(--theme-background, var(--jp-layout-color0, #111)));\n",
       "    --sklearn-color-border-box: var(--sg-text-color, var(--theme-code-foreground, var(--jp-content-font-color1, white)));\n",
       "    --sklearn-color-icon: #878787;\n",
       "  }\n",
       "}\n",
       "\n",
       "#sk-container-id-14 {\n",
       "  color: var(--sklearn-color-text);\n",
       "}\n",
       "\n",
       "#sk-container-id-14 pre {\n",
       "  padding: 0;\n",
       "}\n",
       "\n",
       "#sk-container-id-14 input.sk-hidden--visually {\n",
       "  border: 0;\n",
       "  clip: rect(1px 1px 1px 1px);\n",
       "  clip: rect(1px, 1px, 1px, 1px);\n",
       "  height: 1px;\n",
       "  margin: -1px;\n",
       "  overflow: hidden;\n",
       "  padding: 0;\n",
       "  position: absolute;\n",
       "  width: 1px;\n",
       "}\n",
       "\n",
       "#sk-container-id-14 div.sk-dashed-wrapped {\n",
       "  border: 1px dashed var(--sklearn-color-line);\n",
       "  margin: 0 0.4em 0.5em 0.4em;\n",
       "  box-sizing: border-box;\n",
       "  padding-bottom: 0.4em;\n",
       "  background-color: var(--sklearn-color-background);\n",
       "}\n",
       "\n",
       "#sk-container-id-14 div.sk-container {\n",
       "  /* jupyter's `normalize.less` sets `[hidden] { display: none; }`\n",
       "     but bootstrap.min.css set `[hidden] { display: none !important; }`\n",
       "     so we also need the `!important` here to be able to override the\n",
       "     default hidden behavior on the sphinx rendered scikit-learn.org.\n",
       "     See: https://github.com/scikit-learn/scikit-learn/issues/21755 */\n",
       "  display: inline-block !important;\n",
       "  position: relative;\n",
       "}\n",
       "\n",
       "#sk-container-id-14 div.sk-text-repr-fallback {\n",
       "  display: none;\n",
       "}\n",
       "\n",
       "div.sk-parallel-item,\n",
       "div.sk-serial,\n",
       "div.sk-item {\n",
       "  /* draw centered vertical line to link estimators */\n",
       "  background-image: linear-gradient(var(--sklearn-color-text-on-default-background), var(--sklearn-color-text-on-default-background));\n",
       "  background-size: 2px 100%;\n",
       "  background-repeat: no-repeat;\n",
       "  background-position: center center;\n",
       "}\n",
       "\n",
       "/* Parallel-specific style estimator block */\n",
       "\n",
       "#sk-container-id-14 div.sk-parallel-item::after {\n",
       "  content: \"\";\n",
       "  width: 100%;\n",
       "  border-bottom: 2px solid var(--sklearn-color-text-on-default-background);\n",
       "  flex-grow: 1;\n",
       "}\n",
       "\n",
       "#sk-container-id-14 div.sk-parallel {\n",
       "  display: flex;\n",
       "  align-items: stretch;\n",
       "  justify-content: center;\n",
       "  background-color: var(--sklearn-color-background);\n",
       "  position: relative;\n",
       "}\n",
       "\n",
       "#sk-container-id-14 div.sk-parallel-item {\n",
       "  display: flex;\n",
       "  flex-direction: column;\n",
       "}\n",
       "\n",
       "#sk-container-id-14 div.sk-parallel-item:first-child::after {\n",
       "  align-self: flex-end;\n",
       "  width: 50%;\n",
       "}\n",
       "\n",
       "#sk-container-id-14 div.sk-parallel-item:last-child::after {\n",
       "  align-self: flex-start;\n",
       "  width: 50%;\n",
       "}\n",
       "\n",
       "#sk-container-id-14 div.sk-parallel-item:only-child::after {\n",
       "  width: 0;\n",
       "}\n",
       "\n",
       "/* Serial-specific style estimator block */\n",
       "\n",
       "#sk-container-id-14 div.sk-serial {\n",
       "  display: flex;\n",
       "  flex-direction: column;\n",
       "  align-items: center;\n",
       "  background-color: var(--sklearn-color-background);\n",
       "  padding-right: 1em;\n",
       "  padding-left: 1em;\n",
       "}\n",
       "\n",
       "\n",
       "/* Toggleable style: style used for estimator/Pipeline/ColumnTransformer box that is\n",
       "clickable and can be expanded/collapsed.\n",
       "- Pipeline and ColumnTransformer use this feature and define the default style\n",
       "- Estimators will overwrite some part of the style using the `sk-estimator` class\n",
       "*/\n",
       "\n",
       "/* Pipeline and ColumnTransformer style (default) */\n",
       "\n",
       "#sk-container-id-14 div.sk-toggleable {\n",
       "  /* Default theme specific background. It is overwritten whether we have a\n",
       "  specific estimator or a Pipeline/ColumnTransformer */\n",
       "  background-color: var(--sklearn-color-background);\n",
       "}\n",
       "\n",
       "/* Toggleable label */\n",
       "#sk-container-id-14 label.sk-toggleable__label {\n",
       "  cursor: pointer;\n",
       "  display: block;\n",
       "  width: 100%;\n",
       "  margin-bottom: 0;\n",
       "  padding: 0.5em;\n",
       "  box-sizing: border-box;\n",
       "  text-align: center;\n",
       "}\n",
       "\n",
       "#sk-container-id-14 label.sk-toggleable__label-arrow:before {\n",
       "  /* Arrow on the left of the label */\n",
       "  content: \"▸\";\n",
       "  float: left;\n",
       "  margin-right: 0.25em;\n",
       "  color: var(--sklearn-color-icon);\n",
       "}\n",
       "\n",
       "#sk-container-id-14 label.sk-toggleable__label-arrow:hover:before {\n",
       "  color: var(--sklearn-color-text);\n",
       "}\n",
       "\n",
       "/* Toggleable content - dropdown */\n",
       "\n",
       "#sk-container-id-14 div.sk-toggleable__content {\n",
       "  max-height: 0;\n",
       "  max-width: 0;\n",
       "  overflow: hidden;\n",
       "  text-align: left;\n",
       "  /* unfitted */\n",
       "  background-color: var(--sklearn-color-unfitted-level-0);\n",
       "}\n",
       "\n",
       "#sk-container-id-14 div.sk-toggleable__content.fitted {\n",
       "  /* fitted */\n",
       "  background-color: var(--sklearn-color-fitted-level-0);\n",
       "}\n",
       "\n",
       "#sk-container-id-14 div.sk-toggleable__content pre {\n",
       "  margin: 0.2em;\n",
       "  border-radius: 0.25em;\n",
       "  color: var(--sklearn-color-text);\n",
       "  /* unfitted */\n",
       "  background-color: var(--sklearn-color-unfitted-level-0);\n",
       "}\n",
       "\n",
       "#sk-container-id-14 div.sk-toggleable__content.fitted pre {\n",
       "  /* unfitted */\n",
       "  background-color: var(--sklearn-color-fitted-level-0);\n",
       "}\n",
       "\n",
       "#sk-container-id-14 input.sk-toggleable__control:checked~div.sk-toggleable__content {\n",
       "  /* Expand drop-down */\n",
       "  max-height: 200px;\n",
       "  max-width: 100%;\n",
       "  overflow: auto;\n",
       "}\n",
       "\n",
       "#sk-container-id-14 input.sk-toggleable__control:checked~label.sk-toggleable__label-arrow:before {\n",
       "  content: \"▾\";\n",
       "}\n",
       "\n",
       "/* Pipeline/ColumnTransformer-specific style */\n",
       "\n",
       "#sk-container-id-14 div.sk-label input.sk-toggleable__control:checked~label.sk-toggleable__label {\n",
       "  color: var(--sklearn-color-text);\n",
       "  background-color: var(--sklearn-color-unfitted-level-2);\n",
       "}\n",
       "\n",
       "#sk-container-id-14 div.sk-label.fitted input.sk-toggleable__control:checked~label.sk-toggleable__label {\n",
       "  background-color: var(--sklearn-color-fitted-level-2);\n",
       "}\n",
       "\n",
       "/* Estimator-specific style */\n",
       "\n",
       "/* Colorize estimator box */\n",
       "#sk-container-id-14 div.sk-estimator input.sk-toggleable__control:checked~label.sk-toggleable__label {\n",
       "  /* unfitted */\n",
       "  background-color: var(--sklearn-color-unfitted-level-2);\n",
       "}\n",
       "\n",
       "#sk-container-id-14 div.sk-estimator.fitted input.sk-toggleable__control:checked~label.sk-toggleable__label {\n",
       "  /* fitted */\n",
       "  background-color: var(--sklearn-color-fitted-level-2);\n",
       "}\n",
       "\n",
       "#sk-container-id-14 div.sk-label label.sk-toggleable__label,\n",
       "#sk-container-id-14 div.sk-label label {\n",
       "  /* The background is the default theme color */\n",
       "  color: var(--sklearn-color-text-on-default-background);\n",
       "}\n",
       "\n",
       "/* On hover, darken the color of the background */\n",
       "#sk-container-id-14 div.sk-label:hover label.sk-toggleable__label {\n",
       "  color: var(--sklearn-color-text);\n",
       "  background-color: var(--sklearn-color-unfitted-level-2);\n",
       "}\n",
       "\n",
       "/* Label box, darken color on hover, fitted */\n",
       "#sk-container-id-14 div.sk-label.fitted:hover label.sk-toggleable__label.fitted {\n",
       "  color: var(--sklearn-color-text);\n",
       "  background-color: var(--sklearn-color-fitted-level-2);\n",
       "}\n",
       "\n",
       "/* Estimator label */\n",
       "\n",
       "#sk-container-id-14 div.sk-label label {\n",
       "  font-family: monospace;\n",
       "  font-weight: bold;\n",
       "  display: inline-block;\n",
       "  line-height: 1.2em;\n",
       "}\n",
       "\n",
       "#sk-container-id-14 div.sk-label-container {\n",
       "  text-align: center;\n",
       "}\n",
       "\n",
       "/* Estimator-specific */\n",
       "#sk-container-id-14 div.sk-estimator {\n",
       "  font-family: monospace;\n",
       "  border: 1px dotted var(--sklearn-color-border-box);\n",
       "  border-radius: 0.25em;\n",
       "  box-sizing: border-box;\n",
       "  margin-bottom: 0.5em;\n",
       "  /* unfitted */\n",
       "  background-color: var(--sklearn-color-unfitted-level-0);\n",
       "}\n",
       "\n",
       "#sk-container-id-14 div.sk-estimator.fitted {\n",
       "  /* fitted */\n",
       "  background-color: var(--sklearn-color-fitted-level-0);\n",
       "}\n",
       "\n",
       "/* on hover */\n",
       "#sk-container-id-14 div.sk-estimator:hover {\n",
       "  /* unfitted */\n",
       "  background-color: var(--sklearn-color-unfitted-level-2);\n",
       "}\n",
       "\n",
       "#sk-container-id-14 div.sk-estimator.fitted:hover {\n",
       "  /* fitted */\n",
       "  background-color: var(--sklearn-color-fitted-level-2);\n",
       "}\n",
       "\n",
       "/* Specification for estimator info (e.g. \"i\" and \"?\") */\n",
       "\n",
       "/* Common style for \"i\" and \"?\" */\n",
       "\n",
       ".sk-estimator-doc-link,\n",
       "a:link.sk-estimator-doc-link,\n",
       "a:visited.sk-estimator-doc-link {\n",
       "  float: right;\n",
       "  font-size: smaller;\n",
       "  line-height: 1em;\n",
       "  font-family: monospace;\n",
       "  background-color: var(--sklearn-color-background);\n",
       "  border-radius: 1em;\n",
       "  height: 1em;\n",
       "  width: 1em;\n",
       "  text-decoration: none !important;\n",
       "  margin-left: 1ex;\n",
       "  /* unfitted */\n",
       "  border: var(--sklearn-color-unfitted-level-1) 1pt solid;\n",
       "  color: var(--sklearn-color-unfitted-level-1);\n",
       "}\n",
       "\n",
       ".sk-estimator-doc-link.fitted,\n",
       "a:link.sk-estimator-doc-link.fitted,\n",
       "a:visited.sk-estimator-doc-link.fitted {\n",
       "  /* fitted */\n",
       "  border: var(--sklearn-color-fitted-level-1) 1pt solid;\n",
       "  color: var(--sklearn-color-fitted-level-1);\n",
       "}\n",
       "\n",
       "/* On hover */\n",
       "div.sk-estimator:hover .sk-estimator-doc-link:hover,\n",
       ".sk-estimator-doc-link:hover,\n",
       "div.sk-label-container:hover .sk-estimator-doc-link:hover,\n",
       ".sk-estimator-doc-link:hover {\n",
       "  /* unfitted */\n",
       "  background-color: var(--sklearn-color-unfitted-level-3);\n",
       "  color: var(--sklearn-color-background);\n",
       "  text-decoration: none;\n",
       "}\n",
       "\n",
       "div.sk-estimator.fitted:hover .sk-estimator-doc-link.fitted:hover,\n",
       ".sk-estimator-doc-link.fitted:hover,\n",
       "div.sk-label-container:hover .sk-estimator-doc-link.fitted:hover,\n",
       ".sk-estimator-doc-link.fitted:hover {\n",
       "  /* fitted */\n",
       "  background-color: var(--sklearn-color-fitted-level-3);\n",
       "  color: var(--sklearn-color-background);\n",
       "  text-decoration: none;\n",
       "}\n",
       "\n",
       "/* Span, style for the box shown on hovering the info icon */\n",
       ".sk-estimator-doc-link span {\n",
       "  display: none;\n",
       "  z-index: 9999;\n",
       "  position: relative;\n",
       "  font-weight: normal;\n",
       "  right: .2ex;\n",
       "  padding: .5ex;\n",
       "  margin: .5ex;\n",
       "  width: min-content;\n",
       "  min-width: 20ex;\n",
       "  max-width: 50ex;\n",
       "  color: var(--sklearn-color-text);\n",
       "  box-shadow: 2pt 2pt 4pt #999;\n",
       "  /* unfitted */\n",
       "  background: var(--sklearn-color-unfitted-level-0);\n",
       "  border: .5pt solid var(--sklearn-color-unfitted-level-3);\n",
       "}\n",
       "\n",
       ".sk-estimator-doc-link.fitted span {\n",
       "  /* fitted */\n",
       "  background: var(--sklearn-color-fitted-level-0);\n",
       "  border: var(--sklearn-color-fitted-level-3);\n",
       "}\n",
       "\n",
       ".sk-estimator-doc-link:hover span {\n",
       "  display: block;\n",
       "}\n",
       "\n",
       "/* \"?\"-specific style due to the `<a>` HTML tag */\n",
       "\n",
       "#sk-container-id-14 a.estimator_doc_link {\n",
       "  float: right;\n",
       "  font-size: 1rem;\n",
       "  line-height: 1em;\n",
       "  font-family: monospace;\n",
       "  background-color: var(--sklearn-color-background);\n",
       "  border-radius: 1rem;\n",
       "  height: 1rem;\n",
       "  width: 1rem;\n",
       "  text-decoration: none;\n",
       "  /* unfitted */\n",
       "  color: var(--sklearn-color-unfitted-level-1);\n",
       "  border: var(--sklearn-color-unfitted-level-1) 1pt solid;\n",
       "}\n",
       "\n",
       "#sk-container-id-14 a.estimator_doc_link.fitted {\n",
       "  /* fitted */\n",
       "  border: var(--sklearn-color-fitted-level-1) 1pt solid;\n",
       "  color: var(--sklearn-color-fitted-level-1);\n",
       "}\n",
       "\n",
       "/* On hover */\n",
       "#sk-container-id-14 a.estimator_doc_link:hover {\n",
       "  /* unfitted */\n",
       "  background-color: var(--sklearn-color-unfitted-level-3);\n",
       "  color: var(--sklearn-color-background);\n",
       "  text-decoration: none;\n",
       "}\n",
       "\n",
       "#sk-container-id-14 a.estimator_doc_link.fitted:hover {\n",
       "  /* fitted */\n",
       "  background-color: var(--sklearn-color-fitted-level-3);\n",
       "}\n",
       "</style><div id=\"sk-container-id-14\" class=\"sk-top-container\"><div class=\"sk-text-repr-fallback\"><pre>LinearRegression()</pre><b>In a Jupyter environment, please rerun this cell to show the HTML representation or trust the notebook. <br />On GitHub, the HTML representation is unable to render, please try loading this page with nbviewer.org.</b></div><div class=\"sk-container\" hidden><div class=\"sk-item\"><div class=\"sk-estimator fitted sk-toggleable\"><input class=\"sk-toggleable__control sk-hidden--visually\" id=\"sk-estimator-id-14\" type=\"checkbox\" checked><label for=\"sk-estimator-id-14\" class=\"sk-toggleable__label fitted sk-toggleable__label-arrow fitted\">&nbsp;&nbsp;LinearRegression<a class=\"sk-estimator-doc-link fitted\" rel=\"noreferrer\" target=\"_blank\" href=\"https://scikit-learn.org/1.5/modules/generated/sklearn.linear_model.LinearRegression.html\">?<span>Documentation for LinearRegression</span></a><span class=\"sk-estimator-doc-link fitted\">i<span>Fitted</span></span></label><div class=\"sk-toggleable__content fitted\"><pre>LinearRegression()</pre></div> </div></div></div></div>"
      ],
      "text/plain": [
       "LinearRegression()"
      ]
     },
     "execution_count": 853,
     "metadata": {},
     "output_type": "execute_result"
    }
   ],
   "source": [
    "# one by one model implement \n",
    "# model 1 LinearRegression\n",
    "lr=LinearRegression()\n",
    "lr.fit(train_x,train_y)\n"
   ]
  },
  {
   "cell_type": "code",
   "execution_count": 854,
   "metadata": {},
   "outputs": [
    {
     "data": {
      "text/plain": [
       "(56.039470328387786, 55.97965007731314)"
      ]
     },
     "execution_count": 854,
     "metadata": {},
     "output_type": "execute_result"
    }
   ],
   "source": [
    "# check the accuracy of model\n",
    "lr.score(test_x,test_y)*100, lr.score(train_x,train_y)*100"
   ]
  },
  {
   "cell_type": "code",
   "execution_count": 855,
   "metadata": {},
   "outputs": [
    {
     "data": {
      "text/plain": [
       "(56.03947160448508, 55.97965007731036)"
      ]
     },
     "execution_count": 855,
     "metadata": {},
     "output_type": "execute_result"
    }
   ],
   "source": [
    "# for model 2 Lasso\n",
    "lr1=Lasso(alpha=0.05)\n",
    "lr1.fit(train_x,train_y)\n",
    "lr1.score(test_x,test_y)*100, lr1.score(train_x,train_y)*100"
   ]
  },
  {
   "cell_type": "code",
   "execution_count": 856,
   "metadata": {},
   "outputs": [
    {
     "data": {
      "text/plain": [
       "(55.8897218122216, 55.97837029555015)"
      ]
     },
     "execution_count": 856,
     "metadata": {},
     "output_type": "execute_result"
    }
   ],
   "source": [
    "# next model Ridge\n",
    "lr2=Ridge(alpha=5)\n",
    "lr2.fit(train_x,train_y)\n",
    "lr2.score(test_x,test_y)*100, lr2.score(train_x,train_y)*100"
   ]
  },
  {
   "cell_type": "code",
   "execution_count": 857,
   "metadata": {},
   "outputs": [
    {
     "data": {
      "text/plain": [
       "(54.62927588086406, 55.878133745952255)"
      ]
     },
     "execution_count": 857,
     "metadata": {},
     "output_type": "execute_result"
    }
   ],
   "source": [
    "lr3=ElasticNet(alpha=0.1)\n",
    "lr3.fit(train_x,train_y)\n",
    "lr3.score(test_x,test_y)*100, lr3.score(train_x,train_y)*100"
   ]
  },
  {
   "cell_type": "code",
   "execution_count": 858,
   "metadata": {},
   "outputs": [
    {
     "data": {
      "text/plain": [
       "(34.78586958188772, 98.74856476583793)"
      ]
     },
     "execution_count": 858,
     "metadata": {},
     "output_type": "execute_result"
    }
   ],
   "source": [
    "# now check on decision tree model\n",
    "dt=DecisionTreeRegressor(max_depth=10)\n",
    "dt.fit(train_x,train_y)\n",
    "dt.score(test_x,test_y)*100, dt.score(train_x,train_y)*100"
   ]
  },
  {
   "cell_type": "markdown",
   "metadata": {},
   "source": [
    "Decision tree gives more accurate answer rather than Linear Regression "
   ]
  },
  {
   "cell_type": "code",
   "execution_count": 859,
   "metadata": {},
   "outputs": [
    {
     "data": {
      "text/plain": [
       "(63.02986979038388, 95.12956159402842)"
      ]
     },
     "execution_count": 859,
     "metadata": {},
     "output_type": "execute_result"
    }
   ],
   "source": [
    "# now try raindomforest model\n",
    "rf=RandomForestRegressor(n_estimators=5)\n",
    "rf.fit(train_x,train_y)\n",
    "rf.score(test_x,test_y)*100, rf.score(train_x,train_y)*100"
   ]
  },
  {
   "cell_type": "markdown",
   "metadata": {},
   "source": [
    "Rindomforest is also best "
   ]
  },
  {
   "cell_type": "code",
   "execution_count": 860,
   "metadata": {},
   "outputs": [
    {
     "data": {
      "text/plain": [
       "(29.443168350476146, 90.57682032520502)"
      ]
     },
     "execution_count": 860,
     "metadata": {},
     "output_type": "execute_result"
    }
   ],
   "source": [
    "# Neighbour model\n",
    "KNN=KNeighborsRegressor(n_neighbors=2)\n",
    "KNN.fit(train_x,train_y)\n",
    "KNN.score(test_x,test_y)*100, KNN.score(train_x,train_y)*100"
   ]
  },
  {
   "cell_type": "code",
   "execution_count": 861,
   "metadata": {},
   "outputs": [
    {
     "data": {
      "text/plain": [
       "(-8.143245988554382, -6.2421266901456995)"
      ]
     },
     "execution_count": 861,
     "metadata": {},
     "output_type": "execute_result"
    }
   ],
   "source": [
    "# SVR model\n",
    "svr=SVR()\n",
    "svr.fit(train_x,train_y)\n",
    "svr.score(test_x,test_y)*100, svr.score(train_x,train_y)*100"
   ]
  },
  {
   "cell_type": "markdown",
   "metadata": {},
   "source": [
    "SVR model is very very low accurate "
   ]
  },
  {
   "cell_type": "markdown",
   "metadata": {},
   "source": [
    "# Check errors"
   ]
  },
  {
   "cell_type": "code",
   "execution_count": 862,
   "metadata": {},
   "outputs": [],
   "source": [
    "from sklearn.metrics import mean_squared_error,mean_absolute_error"
   ]
  },
  {
   "cell_type": "code",
   "execution_count": 863,
   "metadata": {},
   "outputs": [
    {
     "data": {
      "text/plain": [
       "(np.float64(2196389622474.4624), np.float64(427557.86853741045))"
      ]
     },
     "execution_count": 863,
     "metadata": {},
     "output_type": "execute_result"
    }
   ],
   "source": [
    "# check decision tree errors \n",
    "mean_squared_error(test_y,dt.predict(test_x)),mean_absolute_error(test_y,dt.predict(test_x))"
   ]
  },
  {
   "cell_type": "code",
   "execution_count": 864,
   "metadata": {},
   "outputs": [
    {
     "data": {
      "text/plain": [
       "(np.float64(1245141349172.6653), np.float64(374082.2212885154))"
      ]
     },
     "execution_count": 864,
     "metadata": {},
     "output_type": "execute_result"
    }
   ],
   "source": [
    "# Check raindonforest errors\n",
    "mean_squared_error(test_y,rf.predict(test_x)),mean_absolute_error(test_y,rf.predict(test_x))"
   ]
  },
  {
   "cell_type": "markdown",
   "metadata": {},
   "source": [
    "# Raindom forest errors is less than decision tree error so we select this type of model "
   ]
  },
  {
   "cell_type": "code",
   "execution_count": 865,
   "metadata": {},
   "outputs": [
    {
     "data": {
      "text/plain": [
       "(np.float64(3642227561835.2007), np.float64(1072292.4823798304))"
      ]
     },
     "execution_count": 865,
     "metadata": {},
     "output_type": "execute_result"
    }
   ],
   "source": [
    "# Check snm error\n",
    "mean_squared_error(test_y,svr.predict(test_x)),mean_absolute_error(test_y,svr.predict(test_x))"
   ]
  },
  {
   "cell_type": "code",
   "execution_count": 866,
   "metadata": {},
   "outputs": [
    {
     "data": {
      "text/plain": [
       "(np.float64(2376329973828.0513), np.float64(501237.3802521008))"
      ]
     },
     "execution_count": 866,
     "metadata": {},
     "output_type": "execute_result"
    }
   ],
   "source": [
    "# Check KNN error\n",
    "mean_squared_error(test_y,KNN.predict(test_x)),mean_absolute_error(test_y,KNN.predict(test_x))"
   ]
  },
  {
   "cell_type": "markdown",
   "metadata": {},
   "source": [
    "# Prediction model to ham raindom forest ko select karaingay "
   ]
  },
  {
   "cell_type": "code",
   "execution_count": 867,
   "metadata": {},
   "outputs": [
    {
     "data": {
      "text/html": [
       "<div>\n",
       "<style scoped>\n",
       "    .dataframe tbody tr th:only-of-type {\n",
       "        vertical-align: middle;\n",
       "    }\n",
       "\n",
       "    .dataframe tbody tr th {\n",
       "        vertical-align: top;\n",
       "    }\n",
       "\n",
       "    .dataframe thead th {\n",
       "        text-align: right;\n",
       "    }\n",
       "</style>\n",
       "<table border=\"1\" class=\"dataframe\">\n",
       "  <thead>\n",
       "    <tr style=\"text-align: right;\">\n",
       "      <th></th>\n",
       "      <th>car_name</th>\n",
       "      <th>brand</th>\n",
       "      <th>car_model</th>\n",
       "      <th>model_year</th>\n",
       "      <th>transmission</th>\n",
       "      <th>body_type</th>\n",
       "      <th>fuel_type</th>\n",
       "      <th>engine_capacity</th>\n",
       "      <th>kilometers_run</th>\n",
       "    </tr>\n",
       "  </thead>\n",
       "  <tbody>\n",
       "    <tr>\n",
       "      <th>825</th>\n",
       "      <td>-1.365319</td>\n",
       "      <td>-1.033449</td>\n",
       "      <td>0.602011</td>\n",
       "      <td>0.043214</td>\n",
       "      <td>-0.213762</td>\n",
       "      <td>-0.001961</td>\n",
       "      <td>0.160982</td>\n",
       "      <td>0.845054</td>\n",
       "      <td>-0.008495</td>\n",
       "    </tr>\n",
       "    <tr>\n",
       "      <th>443</th>\n",
       "      <td>-0.477303</td>\n",
       "      <td>0.411679</td>\n",
       "      <td>-1.170860</td>\n",
       "      <td>0.773677</td>\n",
       "      <td>-0.213762</td>\n",
       "      <td>-2.335383</td>\n",
       "      <td>-0.496200</td>\n",
       "      <td>-0.463253</td>\n",
       "      <td>-0.033456</td>\n",
       "    </tr>\n",
       "    <tr>\n",
       "      <th>506</th>\n",
       "      <td>0.227981</td>\n",
       "      <td>0.411679</td>\n",
       "      <td>-0.345558</td>\n",
       "      <td>0.919769</td>\n",
       "      <td>-0.213762</td>\n",
       "      <td>-1.557576</td>\n",
       "      <td>-0.331904</td>\n",
       "      <td>-0.463253</td>\n",
       "      <td>-0.539998</td>\n",
       "    </tr>\n",
       "    <tr>\n",
       "      <th>1152</th>\n",
       "      <td>-1.464700</td>\n",
       "      <td>-2.065683</td>\n",
       "      <td>-0.039891</td>\n",
       "      <td>-1.563804</td>\n",
       "      <td>-0.213762</td>\n",
       "      <td>-0.001961</td>\n",
       "      <td>1.968232</td>\n",
       "      <td>0.845054</td>\n",
       "      <td>0.199514</td>\n",
       "    </tr>\n",
       "    <tr>\n",
       "      <th>364</th>\n",
       "      <td>1.212172</td>\n",
       "      <td>0.411679</td>\n",
       "      <td>0.754844</td>\n",
       "      <td>0.335399</td>\n",
       "      <td>-0.213762</td>\n",
       "      <td>0.775847</td>\n",
       "      <td>-0.989086</td>\n",
       "      <td>-0.463253</td>\n",
       "      <td>-0.161589</td>\n",
       "    </tr>\n",
       "    <tr>\n",
       "      <th>...</th>\n",
       "      <td>...</td>\n",
       "      <td>...</td>\n",
       "      <td>...</td>\n",
       "      <td>...</td>\n",
       "      <td>...</td>\n",
       "      <td>...</td>\n",
       "      <td>...</td>\n",
       "      <td>...</td>\n",
       "      <td>...</td>\n",
       "    </tr>\n",
       "    <tr>\n",
       "      <th>478</th>\n",
       "      <td>-0.611948</td>\n",
       "      <td>0.411679</td>\n",
       "      <td>-1.170860</td>\n",
       "      <td>0.919769</td>\n",
       "      <td>-0.213762</td>\n",
       "      <td>0.775847</td>\n",
       "      <td>-0.496200</td>\n",
       "      <td>-0.463253</td>\n",
       "      <td>-0.502723</td>\n",
       "    </tr>\n",
       "    <tr>\n",
       "      <th>961</th>\n",
       "      <td>0.407507</td>\n",
       "      <td>0.411679</td>\n",
       "      <td>-0.009324</td>\n",
       "      <td>0.773677</td>\n",
       "      <td>-0.213762</td>\n",
       "      <td>-0.779768</td>\n",
       "      <td>0.982459</td>\n",
       "      <td>0.845054</td>\n",
       "      <td>-0.410467</td>\n",
       "    </tr>\n",
       "    <tr>\n",
       "      <th>660</th>\n",
       "      <td>0.615887</td>\n",
       "      <td>0.411679</td>\n",
       "      <td>0.388043</td>\n",
       "      <td>-1.855990</td>\n",
       "      <td>-0.213762</td>\n",
       "      <td>0.775847</td>\n",
       "      <td>0.160982</td>\n",
       "      <td>-0.463253</td>\n",
       "      <td>-0.199863</td>\n",
       "    </tr>\n",
       "    <tr>\n",
       "      <th>854</th>\n",
       "      <td>-1.406995</td>\n",
       "      <td>-1.239896</td>\n",
       "      <td>-0.253858</td>\n",
       "      <td>0.919769</td>\n",
       "      <td>-0.213762</td>\n",
       "      <td>-0.001961</td>\n",
       "      <td>0.160982</td>\n",
       "      <td>-0.201591</td>\n",
       "      <td>-0.948694</td>\n",
       "    </tr>\n",
       "    <tr>\n",
       "      <th>1087</th>\n",
       "      <td>0.680003</td>\n",
       "      <td>0.411679</td>\n",
       "      <td>0.479744</td>\n",
       "      <td>0.919769</td>\n",
       "      <td>-0.213762</td>\n",
       "      <td>-0.779768</td>\n",
       "      <td>1.968232</td>\n",
       "      <td>0.321731</td>\n",
       "      <td>-0.529182</td>\n",
       "    </tr>\n",
       "  </tbody>\n",
       "</table>\n",
       "<p>238 rows × 9 columns</p>\n",
       "</div>"
      ],
      "text/plain": [
       "      car_name     brand  car_model  model_year  transmission  body_type  \\\n",
       "825  -1.365319 -1.033449   0.602011    0.043214     -0.213762  -0.001961   \n",
       "443  -0.477303  0.411679  -1.170860    0.773677     -0.213762  -2.335383   \n",
       "506   0.227981  0.411679  -0.345558    0.919769     -0.213762  -1.557576   \n",
       "1152 -1.464700 -2.065683  -0.039891   -1.563804     -0.213762  -0.001961   \n",
       "364   1.212172  0.411679   0.754844    0.335399     -0.213762   0.775847   \n",
       "...        ...       ...        ...         ...           ...        ...   \n",
       "478  -0.611948  0.411679  -1.170860    0.919769     -0.213762   0.775847   \n",
       "961   0.407507  0.411679  -0.009324    0.773677     -0.213762  -0.779768   \n",
       "660   0.615887  0.411679   0.388043   -1.855990     -0.213762   0.775847   \n",
       "854  -1.406995 -1.239896  -0.253858    0.919769     -0.213762  -0.001961   \n",
       "1087  0.680003  0.411679   0.479744    0.919769     -0.213762  -0.779768   \n",
       "\n",
       "      fuel_type  engine_capacity  kilometers_run  \n",
       "825    0.160982         0.845054       -0.008495  \n",
       "443   -0.496200        -0.463253       -0.033456  \n",
       "506   -0.331904        -0.463253       -0.539998  \n",
       "1152   1.968232         0.845054        0.199514  \n",
       "364   -0.989086        -0.463253       -0.161589  \n",
       "...         ...              ...             ...  \n",
       "478   -0.496200        -0.463253       -0.502723  \n",
       "961    0.982459         0.845054       -0.410467  \n",
       "660    0.160982        -0.463253       -0.199863  \n",
       "854    0.160982        -0.201591       -0.948694  \n",
       "1087   1.968232         0.321731       -0.529182  \n",
       "\n",
       "[238 rows x 9 columns]"
      ]
     },
     "execution_count": 867,
     "metadata": {},
     "output_type": "execute_result"
    }
   ],
   "source": [
    "test_x"
   ]
  },
  {
   "cell_type": "code",
   "execution_count": 868,
   "metadata": {},
   "outputs": [
    {
     "name": "stderr",
     "output_type": "stream",
     "text": [
      "C:\\Users\\Abdul-Samad\\AppData\\Roaming\\Python\\Python313\\site-packages\\sklearn\\base.py:493: UserWarning: X does not have valid feature names, but RandomForestRegressor was fitted with feature names\n",
      "  warnings.warn(\n"
     ]
    },
    {
     "data": {
      "text/plain": [
       "array([1506000.])"
      ]
     },
     "execution_count": 868,
     "metadata": {},
     "output_type": "execute_result"
    }
   ],
   "source": [
    "rf.predict([[-1.365319,-1.033449,0.602011,0.043214,-0.213762,-0.001961,0.160982,0.845054,-0.008495]])"
   ]
  },
  {
   "cell_type": "code",
   "execution_count": 869,
   "metadata": {},
   "outputs": [
    {
     "data": {
      "text/plain": [
       "838     2250000\n",
       "454     1590000\n",
       "518     1620000\n",
       "1171     980000\n",
       "368     2050000\n",
       "         ...   \n",
       "489     1975000\n",
       "978     2200000\n",
       "673      850000\n",
       "867     5250000\n",
       "1104    2500000\n",
       "Name: price, Length: 238, dtype: int64"
      ]
     },
     "execution_count": 869,
     "metadata": {},
     "output_type": "execute_result"
    }
   ],
   "source": [
    "test_y"
   ]
  },
  {
   "cell_type": "code",
   "execution_count": 870,
   "metadata": {},
   "outputs": [],
   "source": [
    "new_dataset=pd.DataFrame([[\"Toyota Fielder 2011\",\"Toyota\",\"Fielder\",2016,\"Automatic\",\"Estate\",\"CNG\",1500,45852]],columns=train_x.columns)"
   ]
  },
  {
   "cell_type": "code",
   "execution_count": 871,
   "metadata": {},
   "outputs": [
    {
     "data": {
      "text/html": [
       "<div>\n",
       "<style scoped>\n",
       "    .dataframe tbody tr th:only-of-type {\n",
       "        vertical-align: middle;\n",
       "    }\n",
       "\n",
       "    .dataframe tbody tr th {\n",
       "        vertical-align: top;\n",
       "    }\n",
       "\n",
       "    .dataframe thead th {\n",
       "        text-align: right;\n",
       "    }\n",
       "</style>\n",
       "<table border=\"1\" class=\"dataframe\">\n",
       "  <thead>\n",
       "    <tr style=\"text-align: right;\">\n",
       "      <th></th>\n",
       "      <th>car_name</th>\n",
       "      <th>brand</th>\n",
       "      <th>car_model</th>\n",
       "      <th>model_year</th>\n",
       "      <th>transmission</th>\n",
       "      <th>body_type</th>\n",
       "      <th>fuel_type</th>\n",
       "      <th>engine_capacity</th>\n",
       "      <th>kilometers_run</th>\n",
       "    </tr>\n",
       "  </thead>\n",
       "  <tbody>\n",
       "    <tr>\n",
       "      <th>0</th>\n",
       "      <td>Toyota Fielder 2011</td>\n",
       "      <td>Toyota</td>\n",
       "      <td>Fielder</td>\n",
       "      <td>2016</td>\n",
       "      <td>Automatic</td>\n",
       "      <td>Estate</td>\n",
       "      <td>CNG</td>\n",
       "      <td>1500</td>\n",
       "      <td>45852</td>\n",
       "    </tr>\n",
       "  </tbody>\n",
       "</table>\n",
       "</div>"
      ],
      "text/plain": [
       "              car_name   brand car_model  model_year transmission body_type  \\\n",
       "0  Toyota Fielder 2011  Toyota   Fielder        2016    Automatic    Estate   \n",
       "\n",
       "  fuel_type  engine_capacity  kilometers_run  \n",
       "0       CNG             1500           45852  "
      ]
     },
     "execution_count": 871,
     "metadata": {},
     "output_type": "execute_result"
    }
   ],
   "source": [
    "new_dataset"
   ]
  },
  {
   "cell_type": "code",
   "execution_count": 872,
   "metadata": {},
   "outputs": [],
   "source": [
    "new_dataset['car_name']=Car_name.transform(new_dataset['car_name'])"
   ]
  },
  {
   "cell_type": "code",
   "execution_count": 873,
   "metadata": {},
   "outputs": [],
   "source": [
    "new_dataset['brand']=Brand.transform(new_dataset['brand'])"
   ]
  },
  {
   "cell_type": "code",
   "execution_count": 874,
   "metadata": {},
   "outputs": [],
   "source": [
    "new_dataset['fuel_type']=Fuel_type.transform(new_dataset['fuel_type'])"
   ]
  },
  {
   "cell_type": "code",
   "execution_count": 875,
   "metadata": {},
   "outputs": [],
   "source": [
    "new_dataset['transmission']=Transmission.transform(new_dataset['transmission'])"
   ]
  },
  {
   "cell_type": "code",
   "execution_count": 876,
   "metadata": {},
   "outputs": [],
   "source": [
    "new_dataset['body_type']=Body_type.transform(new_dataset['body_type'])"
   ]
  },
  {
   "cell_type": "code",
   "execution_count": 877,
   "metadata": {},
   "outputs": [],
   "source": [
    "new_dataset['car_model']=Car_Model.transform(new_dataset['car_model'])"
   ]
  },
  {
   "cell_type": "markdown",
   "metadata": {},
   "source": [
    "scaling "
   ]
  },
  {
   "cell_type": "code",
   "execution_count": 878,
   "metadata": {},
   "outputs": [],
   "source": [
    "new_dataset=pd.DataFrame(ss.transform(new_dataset),columns=new_dataset.columns)"
   ]
  },
  {
   "cell_type": "code",
   "execution_count": 879,
   "metadata": {},
   "outputs": [
    {
     "data": {
      "text/html": [
       "<div>\n",
       "<style scoped>\n",
       "    .dataframe tbody tr th:only-of-type {\n",
       "        vertical-align: middle;\n",
       "    }\n",
       "\n",
       "    .dataframe tbody tr th {\n",
       "        vertical-align: top;\n",
       "    }\n",
       "\n",
       "    .dataframe thead th {\n",
       "        text-align: right;\n",
       "    }\n",
       "</style>\n",
       "<table border=\"1\" class=\"dataframe\">\n",
       "  <thead>\n",
       "    <tr style=\"text-align: right;\">\n",
       "      <th></th>\n",
       "      <th>car_name</th>\n",
       "      <th>brand</th>\n",
       "      <th>car_model</th>\n",
       "      <th>model_year</th>\n",
       "      <th>transmission</th>\n",
       "      <th>body_type</th>\n",
       "      <th>fuel_type</th>\n",
       "      <th>engine_capacity</th>\n",
       "      <th>kilometers_run</th>\n",
       "    </tr>\n",
       "  </thead>\n",
       "  <tbody>\n",
       "    <tr>\n",
       "      <th>0</th>\n",
       "      <td>0.109365</td>\n",
       "      <td>0.411679</td>\n",
       "      <td>-0.345558</td>\n",
       "      <td>0.919769</td>\n",
       "      <td>-0.213762</td>\n",
       "      <td>-2.335383</td>\n",
       "      <td>-1.317677</td>\n",
       "      <td>-0.463253</td>\n",
       "      <td>-0.352092</td>\n",
       "    </tr>\n",
       "  </tbody>\n",
       "</table>\n",
       "</div>"
      ],
      "text/plain": [
       "   car_name     brand  car_model  model_year  transmission  body_type  \\\n",
       "0  0.109365  0.411679  -0.345558    0.919769     -0.213762  -2.335383   \n",
       "\n",
       "   fuel_type  engine_capacity  kilometers_run  \n",
       "0  -1.317677        -0.463253       -0.352092  "
      ]
     },
     "execution_count": 879,
     "metadata": {},
     "output_type": "execute_result"
    }
   ],
   "source": [
    "new_dataset"
   ]
  },
  {
   "cell_type": "code",
   "execution_count": 880,
   "metadata": {},
   "outputs": [
    {
     "data": {
      "text/plain": [
       "array([1238000.])"
      ]
     },
     "execution_count": 880,
     "metadata": {},
     "output_type": "execute_result"
    }
   ],
   "source": [
    "rf.predict(new_dataset)"
   ]
  }
 ],
 "metadata": {
  "kernelspec": {
   "display_name": "ML_env",
   "language": "python",
   "name": "python3"
  },
  "language_info": {
   "codemirror_mode": {
    "name": "ipython",
    "version": 3
   },
   "file_extension": ".py",
   "mimetype": "text/x-python",
   "name": "python",
   "nbconvert_exporter": "python",
   "pygments_lexer": "ipython3",
   "version": "3.13.2"
  }
 },
 "nbformat": 4,
 "nbformat_minor": 2
}
